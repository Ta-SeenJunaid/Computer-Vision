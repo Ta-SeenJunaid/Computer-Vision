{
 "cells": [
  {
   "cell_type": "markdown",
   "metadata": {},
   "source": [
    "# Line Detection "
   ]
  },
  {
   "cell_type": "markdown",
   "metadata": {},
   "source": [
    "Lin equation used by algorithms:\n",
    "<br>\n",
    "<br>\n",
    "$ \\rho = x\\sin\\theta + y\\cos\\theta $\n",
    "<br>\n",
    "<br>\n",
    "considering OpenCV representation where origin is the top-left corner :\n",
    "- $\\rho =$ the perpendicular distance from origin to the line\n",
    "- $ \\theta $ = the angle formed by this perpendicular line and horizontal axis measured in counter-clockwise "
   ]
  },
  {
   "cell_type": "markdown",
   "metadata": {},
   "source": [
    "## Using Hough Lines"
   ]
  },
  {
   "cell_type": "markdown",
   "metadata": {},
   "source": [
    "lines = **cv2.HoughLines**(binarized/thresholded image, 𝜌 accuracy, 𝜃 accuracy, threshold)\n",
    "- threshold here is the minimum vote for it to be considered a line\n",
    "- return parameters of lines (𝜌 & 𝜃)"
   ]
  },
  {
   "cell_type": "code",
   "execution_count": 19,
   "metadata": {},
   "outputs": [],
   "source": [
    "import cv2\n",
    "import numpy as np\n",
    "\n",
    "img = cv2.imread('../DATA/soduku_image.jpg')\n",
    "\n",
    "cv2.imshow('Source Image', img)\n",
    "cv2.waitKey(0)\n",
    "\n",
    "\n",
    "\n",
    "gray = cv2.cvtColor(img, cv2.COLOR_BGR2GRAY)\n",
    "edge_image = cv2.Canny(gray, 100, 200, apertureSize = 3)\n",
    "\n",
    "cv2.imshow('Canny Edges', edge_image)\n",
    "cv2.waitKey(0)\n",
    "\n",
    "lines = cv2.HoughLines(edge_image, 1, np.pi/180, 220)\n",
    "\n",
    "for line in lines:\n",
    "     for rho, theta in line:\n",
    "        a = np.cos(theta)\n",
    "        b = np.sin(theta)\n",
    "        x0 = a*rho\n",
    "        y0 = b*rho\n",
    "        x1 = int(x0 + 1000*(-b))\n",
    "        y1 = int(y0 + 1000*(a))\n",
    "        x2 = int(x0 - 1000*(-b))\n",
    "        y2 = int(y0 - 1000*(a))\n",
    "        cv2.line(img,(x1,y1),(x2,y2),(0,255, 0),2)\n",
    "\n",
    "       \n",
    "cv2.imshow('HoughLines Image', img)\n",
    "cv2.waitKey(0)\n",
    "cv2.destroyAllWindows()"
   ]
  },
  {
   "cell_type": "markdown",
   "metadata": {},
   "source": [
    "## Probabilistic Hough Lines"
   ]
  },
  {
   "cell_type": "markdown",
   "metadata": {},
   "source": [
    "**cv2.HoughLinesP(binarized image/thresholded image, 𝜌 accuracy, 𝜃 accuracy, threshold, minimum line length, max line gap)\n",
    "- minimum line length =  Minimum length of line. Line segments shorter than this are rejected\n",
    "- max line gap =  Maximum allowed gap between line segments to treat them as single line\n",
    "- returns the two endpoints of lines"
   ]
  },
  {
   "cell_type": "code",
   "execution_count": null,
   "metadata": {},
   "outputs": [
    {
     "name": "stdout",
     "output_type": "stream",
     "text": [
      "(157, 1, 4)\n"
     ]
    }
   ],
   "source": [
    "import cv2\n",
    "import numpy as np\n",
    "\n",
    "img = cv2.imread('../DATA/soduku_image.jpg')\n",
    "\n",
    "cv2.imshow('Source Image', img)\n",
    "cv2.waitKey(0)\n",
    "\n",
    "\n",
    "\n",
    "gray = cv2.cvtColor(img, cv2.COLOR_BGR2GRAY)\n",
    "edge_image = cv2.Canny(gray, 100, 200, apertureSize = 3)\n",
    "\n",
    "cv2.imshow('Canny Edges', edge_image)\n",
    "cv2.waitKey(0)\n",
    "\n",
    "lines = cv2.HoughLinesP(edge_image, 1, np.pi/180, 200, 5, 10)\n",
    "\n",
    "print(lines.shape)\n",
    "\n",
    "for line in lines:\n",
    "    for x1, y1, x2, y2 in line:\n",
    "     cv2.line(img, (x1, y1), (x2, y2),(0, 255, 0), 3)\n",
    "\n",
    "\n",
    "cv2.imshow('HoughLines Image', img)\n",
    "cv2.waitKey(0)\n",
    "cv2.destroyAllWindows()"
   ]
  },
  {
   "cell_type": "code",
   "execution_count": null,
   "metadata": {},
   "outputs": [],
   "source": []
  }
 ],
 "metadata": {
  "kernelspec": {
   "display_name": "Python 3",
   "language": "python",
   "name": "python3"
  },
  "language_info": {
   "codemirror_mode": {
    "name": "ipython",
    "version": 3
   },
   "file_extension": ".py",
   "mimetype": "text/x-python",
   "name": "python",
   "nbconvert_exporter": "python",
   "pygments_lexer": "ipython3",
   "version": "3.6.8"
  }
 },
 "nbformat": 4,
 "nbformat_minor": 2
}
