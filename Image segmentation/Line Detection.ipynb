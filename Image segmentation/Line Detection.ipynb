{
 "cells": [
  {
   "cell_type": "markdown",
   "metadata": {},
   "source": [
    "# Line Detection "
   ]
  },
  {
   "cell_type": "markdown",
   "metadata": {},
   "source": [
    "Lin equation used by algorithms:\n",
    "<br>\n",
    "<br>\n",
    "$ \\rho = x\\sin\\theta + y\\cos\\theta $\n",
    "<br>\n",
    "<br>\n",
    "considering OpenCV representation where origin is the top-left corner :\n",
    "- $\\rho =$ the perpendicular distance from origin to the line\n",
    "- $ \\theta $ = the angle formed by this perpendicular line and horizontal axis measured in counter-clockwise "
   ]
  },
  {
   "cell_type": "markdown",
   "metadata": {},
   "source": [
    "## Using Hough Lines"
   ]
  },
  {
   "cell_type": "code",
   "execution_count": 19,
   "metadata": {},
   "outputs": [],
   "source": [
    "import cv2\n",
    "import numpy as np\n",
    "\n",
    "img = cv2.imread('../DATA/soduku_image.jpg')\n",
    "\n",
    "cv2.imshow('Source Image', img)\n",
    "cv2.waitKey(0)\n",
    "\n",
    "gray = cv2.cvtColor(img, cv2.COLOR_BGR2GRAY)\n",
    "edge_image = cv2.Canny(gray, 100, 150, apertureSize = 3)\n",
    "\n",
    "cv2.imshow('Canny Edges', edge_image)\n",
    "cv2.waitKey(0)\n",
    "\n",
    "lines = cv2.HoughLines(edge_image, 1, np.pi / 180, 240)\n",
    "\n",
    "cv2.imshow('Source Image', img)\n",
    "cv2.waitKey(0)\n",
    "cv2.destroyAllWindows()"
   ]
  },
  {
   "cell_type": "markdown",
   "metadata": {},
   "source": [
    "## Probabilistic Hough Lines"
   ]
  },
  {
   "cell_type": "code",
   "execution_count": null,
   "metadata": {},
   "outputs": [],
   "source": []
  }
 ],
 "metadata": {
  "kernelspec": {
   "display_name": "Python 3",
   "language": "python",
   "name": "python3"
  },
  "language_info": {
   "codemirror_mode": {
    "name": "ipython",
    "version": 3
   },
   "file_extension": ".py",
   "mimetype": "text/x-python",
   "name": "python",
   "nbconvert_exporter": "python",
   "pygments_lexer": "ipython3",
   "version": "3.6.8"
  }
 },
 "nbformat": 4,
 "nbformat_minor": 2
}
