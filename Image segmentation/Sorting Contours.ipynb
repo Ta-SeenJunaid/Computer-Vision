{
 "cells": [
  {
   "cell_type": "markdown",
   "metadata": {},
   "source": [
    "# Sorting Contours"
   ]
  },
  {
   "cell_type": "markdown",
   "metadata": {},
   "source": [
    "## Sorting by Area"
   ]
  },
  {
   "cell_type": "markdown",
   "metadata": {},
   "source": [
    "Eliminate small contours that will be noise\n",
    "<br>\n",
    "Extract contour between range\n",
    "<br>\n",
    "Largest and Smallest contours detection"
   ]
  },
  {
   "cell_type": "code",
   "execution_count": 1,
   "metadata": {},
   "outputs": [
    {
     "name": "stdout",
     "output_type": "stream",
     "text": [
      "Number of contours found =  4\n"
     ]
    }
   ],
   "source": [
    "import cv2\n",
    "import numpy as np\n",
    "\n",
    "img = cv2.imread('../DATA/diffrent_shapes.jpg')\n",
    "cv2.imshow(\"Original Image\", img)\n",
    "cv2.waitKey(0)\n",
    "\n",
    "# print(img.shape)\n",
    "\n",
    "black_img = np.zeros((img.shape[0],img.shape[1],3))\n",
    "\n",
    "gray_img = cv2.cvtColor(img, cv2.COLOR_BGR2GRAY)\n",
    "\n",
    "canny = cv2.Canny(gray_img, 30,150)\n",
    "cv2.imshow(\"Canny Edges\", canny)\n",
    "cv2.waitKey(0)\n",
    "\n",
    "image, contours, hierarchy = cv2.findContours(canny.copy(), cv2.RETR_EXTERNAL, cv2.CHAIN_APPROX_NONE)\n",
    "print(\"Number of contours found = \", len(contours))\n",
    "\n",
    "cv2.drawContours(black_img, contours, -1, (255,0,0), 5)\n",
    "cv2.imshow(\"Contours on black background\", black_img)\n",
    "cv2.waitKey(0)\n",
    "\n",
    "contoured_img = img\n",
    "\n",
    "cv2.drawContours(contoured_img, contours, -1, (255,0,0), 5)\n",
    "cv2.imshow(\"Contours on image\", contoured_img)\n",
    "cv2.waitKey(0)\n",
    "\n",
    "\n",
    "cv2.destroyAllWindows()"
   ]
  },
  {
   "cell_type": "code",
   "execution_count": 2,
   "metadata": {},
   "outputs": [
    {
     "name": "stdout",
     "output_type": "stream",
     "text": [
      "Before Sorting: \n",
      "[20587.5, 22901.5, 66579.5, 90222.0]\n",
      "Before Sorting: \n",
      "[90222.0, 66579.5, 22901.5, 20587.5]\n"
     ]
    }
   ],
   "source": [
    "import cv2\n",
    "import numpy as np\n",
    "\n",
    "def get_contours(allcontours):\n",
    "    contours_area_list = []\n",
    "    \n",
    "    for c in allcontours:\n",
    "        area = cv2.contourArea(c)\n",
    "        contours_area_list.append(area)\n",
    "    \n",
    "    return  contours_area_list\n",
    "\n",
    "img = cv2.imread('../DATA/diffrent_shapes.jpg')\n",
    "cv2.imshow(\"Original Image\", img)\n",
    "cv2.waitKey(0)\n",
    "\n",
    "print(\"Before Sorting: \")\n",
    "print(get_contours(contours))\n",
    "\n",
    "sorted_contours = sorted(contours, key=cv2.contourArea, reverse=True)\n",
    "print(\"Before Sorting: \")\n",
    "print(get_contours(sorted_contours))\n",
    "\n",
    "sorted_img = img\n",
    "for s in sorted_contours:\n",
    "    cv2.drawContours(sorted_img, [s], -1, (255,0,0), 5)\n",
    "    cv2.imshow(\"Contours on sorted_img\", sorted_img)\n",
    "    cv2.waitKey(0)\n",
    "    \n",
    "\n",
    "cv2.destroyAllWindows()"
   ]
  },
  {
   "cell_type": "markdown",
   "metadata": {},
   "source": [
    "## Sorting from Right to Left"
   ]
  },
  {
   "cell_type": "code",
   "execution_count": 5,
   "metadata": {},
   "outputs": [],
   "source": [
    "import cv2\n",
    "import numpy as np\n",
    "\n",
    "def draw_contour_center(contor, image):\n",
    "    m = cv2.moments(c)\n",
    "    cx = int(m['m10'] / m['m00'])\n",
    "    cy = int(m['m01'] / m['m00'])\n",
    "    cv2.circle(image,(cx,cy), 15, (0,255,0), -1)\n",
    "    \n",
    "\n",
    "img = cv2.imread('../DATA/diffrent_shapes.jpg')\n",
    "cv2.imshow(\"Original Image\", img)\n",
    "cv2.waitKey(0)\n",
    "\n",
    "center_img = img\n",
    "\n",
    "for c in contours:\n",
    "    draw_contour_center(c, center_img)\n",
    "    \n",
    "\n",
    "cv2.imshow(\"Contour centers \", center_img)\n",
    "cv2.waitKey(0)\n",
    "    \n",
    "\n",
    "cv2.destroyAllWindows()"
   ]
  },
  {
   "cell_type": "code",
   "execution_count": null,
   "metadata": {},
   "outputs": [],
   "source": []
  }
 ],
 "metadata": {
  "kernelspec": {
   "display_name": "Python 3",
   "language": "python",
   "name": "python3"
  },
  "language_info": {
   "codemirror_mode": {
    "name": "ipython",
    "version": 3
   },
   "file_extension": ".py",
   "mimetype": "text/x-python",
   "name": "python",
   "nbconvert_exporter": "python",
   "pygments_lexer": "ipython3",
   "version": "3.6.8"
  }
 },
 "nbformat": 4,
 "nbformat_minor": 2
}
