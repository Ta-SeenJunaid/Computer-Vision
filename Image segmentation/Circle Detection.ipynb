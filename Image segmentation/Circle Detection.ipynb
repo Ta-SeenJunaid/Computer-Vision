{
 "cells": [
  {
   "cell_type": "markdown",
   "metadata": {},
   "source": [
    "# Hough Cirlces"
   ]
  },
  {
   "cell_type": "markdown",
   "metadata": {},
   "source": [
    "**cv2.HoughCircles**(image, method, dp, minDist, param1, param2, minRadius, maxRadius) → circles\n",
    "\n",
    "- image - input image\n",
    "- method - currently only cv2.HOUGH_GRADIENT available\n",
    "- dp - inverse ratio of the accumulator resolution to the image resolution. For example, if dp=1 , the accumulator has the same resolution as the input image. If dp=2 , the accumulator has half as big width and height\n",
    "- minDist - minimum distance between the centers of the detected circles. If the parameter is too small, multiple neighbor circles may be falsely detected in addition to a true one. If it is too large, some circles may be missed\n",
    "- param1 - first method-specific parameter. In case of CV_HOUGH_GRADIENT , it is the higher threshold of the two passed to the Canny() edge detector (the lower one is twice smaller)\n",
    "- param2 -  second method-specific parameter. In case of CV_HOUGH_GRADIENT , it is the accumulator threshold for the circle centers at the detection stage. The smaller it is, the more false circles may be detected. Circles, corresponding to the larger accumulator values, will be returned first.\n",
    "- minRadius - minimum circle radius\n",
    "- MaxRadius - maximum circle radius\n",
    "- circles – output vector of found circles. Each vector is encoded as a 3-element vector (x, y, radius) "
   ]
  },
  {
   "cell_type": "code",
   "execution_count": 7,
   "metadata": {},
   "outputs": [],
   "source": [
    "import cv2\n",
    "import numpy as np\n",
    "\n",
    "img = cv2.imread('../DATA/circle_test.jpg')\n",
    "cv2.imshow('Original Image', img)\n",
    "cv2.waitKey(0)\n",
    "\n",
    "gray_img = cv2.cvtColor(img, cv2.COLOR_BGR2GRAY)\n",
    "\n",
    "blur_img = cv2.medianBlur(gray_img, 5)\n",
    "cv2.imshow('Blur Image', blur_img)\n",
    "cv2.waitKey(0)\n",
    "\n",
    "circles = cv2.HoughCircles(blur_img, cv2.HOUGH_GRADIENT, 1, 50, \n",
    "                           param1=50,param2=30, minRadius= 15, maxRadius= 50)\n",
    "\n",
    "circles = np.uint16(np.around(circles))\n",
    "\n",
    "for circle in circles[0,:]:\n",
    "    #outer circle\n",
    "    cv2.circle(img, (circle[0], circle[1]), circle[2], (0,255,0), 5)\n",
    "    \n",
    "    #drawing center\n",
    "    cv2.circle(img, (circle[0], circle[1]), 8, (50,0,50), -1)\n",
    "\n",
    "\n",
    "cv2.imshow('Detected circles', img)\n",
    "cv2.waitKey(0)\n",
    "cv2.destroyAllWindows()"
   ]
  },
  {
   "cell_type": "code",
   "execution_count": null,
   "metadata": {},
   "outputs": [],
   "source": []
  }
 ],
 "metadata": {
  "kernelspec": {
   "display_name": "Python 3",
   "language": "python",
   "name": "python3"
  },
  "language_info": {
   "codemirror_mode": {
    "name": "ipython",
    "version": 3
   },
   "file_extension": ".py",
   "mimetype": "text/x-python",
   "name": "python",
   "nbconvert_exporter": "python",
   "pygments_lexer": "ipython3",
   "version": "3.6.8"
  }
 },
 "nbformat": 4,
 "nbformat_minor": 2
}
