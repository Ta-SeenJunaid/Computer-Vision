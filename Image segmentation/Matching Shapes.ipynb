{
 "cells": [
  {
   "cell_type": "code",
   "execution_count": 7,
   "metadata": {},
   "outputs": [],
   "source": [
    "import cv2\n",
    "import numpy as np\n",
    "\n",
    "template = cv2.imread('../DATA/base.jpg', 0)\n",
    "cv2.imshow('Template', template)\n",
    "cv2.waitKey(0)\n",
    "\n",
    "target = cv2.imread('../DATA/matching_shapes.jpg', 0)\n",
    "cv2.imshow('Target', target)\n",
    "cv2.waitKey(0)\n",
    "\n",
    "ret, template_thresh = cv2.threshold(template, 127, 255, 0)\n",
    "ret, target_thresh = cv2.threshold(target, 127, 255, 0)\n",
    "\n",
    "cv2.destroyAllWindows()"
   ]
  },
  {
   "cell_type": "code",
   "execution_count": null,
   "metadata": {},
   "outputs": [],
   "source": []
  }
 ],
 "metadata": {
  "kernelspec": {
   "display_name": "Python 3",
   "language": "python",
   "name": "python3"
  },
  "language_info": {
   "codemirror_mode": {
    "name": "ipython",
    "version": 3
   },
   "file_extension": ".py",
   "mimetype": "text/x-python",
   "name": "python",
   "nbconvert_exporter": "python",
   "pygments_lexer": "ipython3",
   "version": "3.6.8"
  }
 },
 "nbformat": 4,
 "nbformat_minor": 2
}
