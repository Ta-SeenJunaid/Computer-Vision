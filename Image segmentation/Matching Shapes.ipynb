{
 "cells": [
  {
   "cell_type": "markdown",
   "metadata": {},
   "source": [
    "## Matching Shapes"
   ]
  },
  {
   "cell_type": "markdown",
   "metadata": {},
   "source": [
    "**match_metrics = cv2.matchShapes(template, contour, shape match modes, method parameter)**\n",
    "\n",
    "**match_metrics > lower values means a closer match**\n",
    "\n",
    "- template – reference contour \n",
    "- contour – the individual contour we are checking against\n",
    "- shape match modes – type of contour matching (1, 2, 3)\n",
    "- method parameter – not applicable"
   ]
  },
  {
   "cell_type": "code",
   "execution_count": 45,
   "metadata": {
    "scrolled": true
   },
   "outputs": [
    {
     "name": "stdout",
     "output_type": "stream",
     "text": [
      "0.08998152999569864\n",
      "0.10937982041149341\n",
      "0.10309237675800176\n",
      "0.048795368900397706\n"
     ]
    }
   ],
   "source": [
    "import cv2\n",
    "import numpy as np\n",
    "\n",
    "template = cv2.imread('../DATA/base.jpg', 0)\n",
    "cv2.imshow('Template', template)\n",
    "cv2.waitKey(0)\n",
    "\n",
    "target = cv2.imread('../DATA/matching_shapes.jpg')\n",
    "cv2.imshow('Target', target)\n",
    "cv2.waitKey(0)\n",
    "target_gray = cv2.cvtColor(target,cv2.COLOR_BGR2GRAY)\n",
    "\n",
    "ret, template_thresh = cv2.threshold(template, 127, 255, 0)\n",
    "ret, target_thresh = cv2.threshold(target_gray, 127, 255, 0)\n",
    "\n",
    "image_template, contours, hierarchy = cv2.findContours(template_thresh, cv2.RETR_CCOMP, cv2.CHAIN_APPROX_SIMPLE)\n",
    "\n",
    "sorted_contours = sorted(contours, key = cv2.contourArea, reverse=True)\n",
    "\n",
    "template_contor = sorted_contours[1]\n",
    "\n",
    "image_target, contours, hierarchy = cv2.findContours(target_thresh, cv2.RETR_CCOMP, cv2.CHAIN_APPROX_SIMPLE)\n",
    "\n",
    "\n",
    "for c in contours:\n",
    "    \n",
    "    match = cv2.matchShapes(template_contor, c, 2, 0.0)\n",
    "    print(match)\n",
    "    \n",
    "    if match < 0.13:\n",
    "        closest_contour = c\n",
    "    else:\n",
    "        closest_contour = []\n",
    "        \n",
    "cv2.drawContours(target, closest_contour, -1, (0, 255, 0), 10)\n",
    "cv2.imshow('Output', target)\n",
    "cv2.waitKey(0)\n",
    "\n",
    "cv2.destroyAllWindows()"
   ]
  },
  {
   "cell_type": "code",
   "execution_count": null,
   "metadata": {},
   "outputs": [],
   "source": []
  }
 ],
 "metadata": {
  "kernelspec": {
   "display_name": "Python 3",
   "language": "python",
   "name": "python3"
  },
  "language_info": {
   "codemirror_mode": {
    "name": "ipython",
    "version": 3
   },
   "file_extension": ".py",
   "mimetype": "text/x-python",
   "name": "python",
   "nbconvert_exporter": "python",
   "pygments_lexer": "ipython3",
   "version": "3.6.8"
  }
 },
 "nbformat": 4,
 "nbformat_minor": 2
}
