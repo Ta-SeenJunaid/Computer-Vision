{
 "cells": [
  {
   "cell_type": "markdown",
   "metadata": {},
   "source": [
    "## Blob detection parameters"
   ]
  },
  {
   "cell_type": "markdown",
   "metadata": {},
   "source": [
    "<img src=\"../DATA/blob_params.PNG\" width=\"500\" height=\"500\" />"
   ]
  },
  {
   "cell_type": "code",
   "execution_count": 7,
   "metadata": {},
   "outputs": [],
   "source": [
    "import cv2\n",
    "import numpy as np\n",
    "\n",
    "img = cv2.imread(\"../DATA/blobs.jpg\", 0)\n",
    "cv2.imshow('Original Image', img)\n",
    "cv2.waitKey(0)\n",
    "\n",
    "detector = cv2.SimpleBlobDetector_create()\n",
    "\n",
    "keypoints = detector.detect(img)\n",
    "\n",
    "blank = np.zeros((1,1))\n",
    "blobs = cv2.drawKeypoints(img, keypoints, blank, (255,255,255),\n",
    "                         cv2.DRAW_MATCHES_FLAGS_DEFAULT)\n",
    "\n",
    "\n",
    "text = \"Total Number of Blobs: \" + str(len(keypoints))\n",
    "cv2.putText(blobs, text, (100, 550), cv2.FONT_HERSHEY_SIMPLEX, 1, (90, 120, 255), 3)\n",
    "\n",
    "\n",
    "\n",
    "cv2.imshow(\"Blobs Detected\", blobs)\n",
    "cv2.waitKey(0)\n",
    "\n",
    "params_circle = cv2.SimpleBlobDetector_Params()\n",
    "\n",
    "params_circle.filterByArea = True\n",
    "params_circle.minArea = 100\n",
    "\n",
    "params_circle.filterByCircularity = True\n",
    "params_circle.minCircularity = 0.9\n",
    "\n",
    "params_circle.filterByConvexity = True\n",
    "params_circle.minConvexity = 0.2\n",
    "\n",
    "params_circle.filterByInertia = True\n",
    "params_circle.minInertiaRatio = 0.01\n",
    "\n",
    "detector_circle = cv2.SimpleBlobDetector_create(params_circle)\n",
    "\n",
    "keypoints_circle = detector_circle.detect(img)\n",
    "\n",
    "blank = np.zeros((1,1))\n",
    "blobs_circle = cv2.drawKeypoints(img, keypoints_circle, blank, (255,255,255),\n",
    "                         cv2.DRAW_MATCHES_FLAGS_DEFAULT)\n",
    "\n",
    "\n",
    "text = \"Total Number of Circles: \" + str(len(keypoints_circle))\n",
    "cv2.putText(blobs_circle, text, (100, 550), cv2.FONT_HERSHEY_SIMPLEX, 1,\n",
    "            (90, 120, 255), 3)\n",
    "\n",
    "\n",
    "cv2.imshow(\"Circle Detected\", blobs_circle)\n",
    "cv2.waitKey(0)\n",
    "\n",
    "\n",
    "cv2.destroyAllWindows()"
   ]
  },
  {
   "cell_type": "code",
   "execution_count": null,
   "metadata": {},
   "outputs": [],
   "source": []
  }
 ],
 "metadata": {
  "kernelspec": {
   "display_name": "Python 3",
   "language": "python",
   "name": "python3"
  },
  "language_info": {
   "codemirror_mode": {
    "name": "ipython",
    "version": 3
   },
   "file_extension": ".py",
   "mimetype": "text/x-python",
   "name": "python",
   "nbconvert_exporter": "python",
   "pygments_lexer": "ipython3",
   "version": "3.6.8"
  }
 },
 "nbformat": 4,
 "nbformat_minor": 2
}
