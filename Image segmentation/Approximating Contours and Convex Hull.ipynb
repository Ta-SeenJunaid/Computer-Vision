{
 "cells": [
  {
   "cell_type": "markdown",
   "metadata": {},
   "source": [
    "## Approximating Contours "
   ]
  },
  {
   "cell_type": "code",
   "execution_count": 63,
   "metadata": {},
   "outputs": [],
   "source": [
    "import cv2\n",
    "import numpy as np\n",
    "\n",
    "img = cv2.imread('../DATA/star.JPEG')\n",
    "img = cv2.resize(img,(500,500))\n",
    "img = img[0:400, 0:500]\n",
    "cv2.imshow(\"image\", img)\n",
    "cv2.waitKey(0)\n",
    "\n",
    "working_img = img.copy()\n",
    "\n",
    "gray = cv2.cvtColor(working_img, cv2.COLOR_BGR2GRAY)\n",
    "ret, thresh_img = cv2.threshold(gray, 115, 255, cv2.THRESH_BINARY_INV)\n",
    "cv2.imshow(\"Threshold Image\", thresh_img)\n",
    "cv2.waitKey(0)\n",
    "\n",
    "contoured_image, contours, hierarchy = cv2.findContours(thresh_img.copy(), cv2.RETR_LIST, cv2.CHAIN_APPROX_NONE)\n",
    "\n",
    "bounding_img = img.copy()\n",
    "for c in contours:\n",
    "    x,y,w,h = cv2.boundingRect(c)\n",
    "    cv2.rectangle(bounding_img, (x,y), (x+w, y+h), (0,255,0), 3)\n",
    "\n",
    "\n",
    "    \n",
    "cv2.imshow('Bounding image', bounding_img)\n",
    "cv2.waitKey(0)\n",
    "\n",
    "poly_img = img.copy()\n",
    "for c in contours:\n",
    "    \n",
    "    accuracy = 0.03 * cv2.arcLength(c, True)\n",
    "    approx = cv2.approxPolyDP(c, accuracy, True)\n",
    "    cv2.drawContours(poly_img, [approx], 0, (255,0,0), 3)\n",
    "    \n",
    "    \n",
    "cv2.imshow('Polygon', poly_img)\n",
    "cv2.waitKey(0)\n",
    "\n",
    "cv2.destroyAllWindows()"
   ]
  },
  {
   "cell_type": "markdown",
   "metadata": {},
   "source": [
    "## Convex Hull"
   ]
  },
  {
   "cell_type": "code",
   "execution_count": null,
   "metadata": {},
   "outputs": [],
   "source": []
  }
 ],
 "metadata": {
  "kernelspec": {
   "display_name": "Python 3",
   "language": "python",
   "name": "python3"
  },
  "language_info": {
   "codemirror_mode": {
    "name": "ipython",
    "version": 3
   },
   "file_extension": ".py",
   "mimetype": "text/x-python",
   "name": "python",
   "nbconvert_exporter": "python",
   "pygments_lexer": "ipython3",
   "version": "3.6.8"
  }
 },
 "nbformat": 4,
 "nbformat_minor": 2
}
