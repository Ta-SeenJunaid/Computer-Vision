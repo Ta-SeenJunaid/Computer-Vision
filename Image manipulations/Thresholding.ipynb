{
 "cells": [
  {
   "cell_type": "markdown",
   "metadata": {},
   "source": [
    "# Thresholding"
   ]
  },
  {
   "cell_type": "markdown",
   "metadata": {},
   "source": [
    "To convert a gray scale image into binary form"
   ]
  },
  {
   "cell_type": "code",
   "execution_count": 9,
   "metadata": {},
   "outputs": [],
   "source": [
    "import cv2\n",
    "import numpy as np\n",
    "\n",
    "#loading image as greyscale\n",
    "image = cv2.imread('../DATA/gradient.jpg',0)\n",
    "cv2.imshow('Orizinal', image)\n",
    "\n",
    "#Values below 150 go to 0(black) & avobe 150 go to 255(white)  \n",
    "ret, thresh1 = cv2.threshold(image, 150, 255, cv2.THRESH_BINARY)\n",
    "cv2.imshow('1 Threshold Binary', thresh1)\n",
    "\n",
    "#Values below 150 go to 255(white) & avobe 150 go to 0(black)  \n",
    "ret, thresh2 = cv2.threshold(image, 150, 255, cv2.THRESH_BINARY_INV)\n",
    "cv2.imshow('2 Threshold Binary', thresh2)\n",
    "\n",
    "#Values above 150 are truncated(held) at 150\n",
    "ret, thresh3 = cv2.threshold(image, 150, 255, cv2.THRESH_TRUNC)\n",
    "cv2.imshow('3 Threshold Binary', thresh3)\n",
    "\n",
    "\n",
    "#Values above 150 are unchanged and below 150 go to zero\n",
    "ret, thresh4 = cv2.threshold(image, 150, 255, cv2.THRESH_TOZERO)\n",
    "cv2.imshow('4 Threshold Binary', thresh4)\n",
    "\n",
    "#Values above 150 go to zero and below 150 is unchanged\n",
    "ret, thresh5 = cv2.threshold(image, 150, 255, cv2.THRESH_TOZERO_INV)\n",
    "cv2.imshow('5 Threshold Binary', thresh5)\n",
    "\n",
    "cv2.waitKey(0)\n",
    "cv2.destroyAllWindows()"
   ]
  },
  {
   "cell_type": "code",
   "execution_count": null,
   "metadata": {},
   "outputs": [],
   "source": []
  }
 ],
 "metadata": {
  "kernelspec": {
   "display_name": "Python 3",
   "language": "python",
   "name": "python3"
  },
  "language_info": {
   "codemirror_mode": {
    "name": "ipython",
    "version": 3
   },
   "file_extension": ".py",
   "mimetype": "text/x-python",
   "name": "python",
   "nbconvert_exporter": "python",
   "pygments_lexer": "ipython3",
   "version": "3.6.8"
  }
 },
 "nbformat": 4,
 "nbformat_minor": 2
}
