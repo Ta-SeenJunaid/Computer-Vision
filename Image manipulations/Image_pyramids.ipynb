{
 "cells": [
  {
   "cell_type": "markdown",
   "metadata": {},
   "source": [
    "# Image Pyramids"
   ]
  },
  {
   "cell_type": "markdown",
   "metadata": {},
   "source": [
    "- used in scaling image\n",
    "- cv2.pyrDown(image) for down sampling\n",
    "- Gaussian pyramid is used for downsampling\n",
    "- losing information on size reduction\n",
    "- cv2.pyrUp(smaller_image) for up sampling a downsampled image"
   ]
  },
  {
   "cell_type": "code",
   "execution_count": 7,
   "metadata": {},
   "outputs": [],
   "source": [
    "import cv2\n",
    "import numpy as np\n",
    "\n",
    "\n",
    "image = cv2.imread('../DATA/00-puppy.jpg')\n",
    "\n",
    "smaller = cv2.pyrDown(image)\n",
    "bigger = cv2.pyrUp(smaller)\n",
    "\n",
    "cv2.imshow('Original Image', image)\n",
    "cv2.imshow('Smaller Image', smaller)\n",
    "cv2.imshow(\"Bigger version of smaller Image\", bigger)\n",
    "\n",
    "cv2.waitKey(0)\n",
    "cv2.destroyAllWindows()\n"
   ]
  }
 ],
 "metadata": {
  "kernelspec": {
   "display_name": "Python 3",
   "language": "python",
   "name": "python3"
  },
  "language_info": {
   "codemirror_mode": {
    "name": "ipython",
    "version": 3
   },
   "file_extension": ".py",
   "mimetype": "text/x-python",
   "name": "python",
   "nbconvert_exporter": "python",
   "pygments_lexer": "ipython3",
   "version": "3.6.8"
  }
 },
 "nbformat": 4,
 "nbformat_minor": 2
}
