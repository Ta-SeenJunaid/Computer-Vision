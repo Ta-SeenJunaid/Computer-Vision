{
 "cells": [
  {
   "cell_type": "markdown",
   "metadata": {},
   "source": [
    "## Flipping"
   ]
  },
  {
   "cell_type": "markdown",
   "metadata": {},
   "source": [
    "cv2.flip(image, arguments)\n",
    "<br>\n",
    "arguments = 0, for flipping the image around the x-axis (vertical flipping)\n",
    "<br>\n",
    "arguments  > 0 for flipping around the y-axis (horizontal flipping)\n",
    "<br>\n",
    "arguments < 0 for flipping around both axes"
   ]
  },
  {
   "cell_type": "code",
   "execution_count": 2,
   "metadata": {},
   "outputs": [],
   "source": [
    "import cv2\n",
    "import numpy as np\n",
    "\n",
    "img = cv2.imread('../DATA/00-puppy.jpg')\n",
    "\n",
    "flip_vertical = cv2.flip(img, 0)\n",
    "flip_horizontal = cv2.flip(img, 1)\n",
    "flip_both = cv2.flip(img, -1)\n",
    "\n",
    "cv2.imshow(\"Original\", img)\n",
    "cv2.imshow(\"Vertical Flip\", flip_vertical)\n",
    "cv2.imshow(\"Horizontal Flip\", flip_horizontal)\n",
    "cv2.imshow(\"Both Flip\", flip_both)\n",
    "\n",
    "cv2.waitKey()\n",
    "cv2.destroyAllWindows()"
   ]
  },
  {
   "cell_type": "code",
   "execution_count": null,
   "metadata": {},
   "outputs": [],
   "source": []
  }
 ],
 "metadata": {
  "kernelspec": {
   "display_name": "Python 3",
   "language": "python",
   "name": "python3"
  },
  "language_info": {
   "codemirror_mode": {
    "name": "ipython",
    "version": 3
   },
   "file_extension": ".py",
   "mimetype": "text/x-python",
   "name": "python",
   "nbconvert_exporter": "python",
   "pygments_lexer": "ipython3",
   "version": "3.6.8"
  }
 },
 "nbformat": 4,
 "nbformat_minor": 2
}
