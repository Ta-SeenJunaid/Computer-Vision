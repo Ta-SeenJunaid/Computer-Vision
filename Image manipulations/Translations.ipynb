{
 "cells": [
  {
   "cell_type": "markdown",
   "metadata": {},
   "source": [
    "# Translations"
   ]
  },
  {
   "cell_type": "markdown",
   "metadata": {},
   "source": [
    "Two types of translations.\n",
    "- Affine\n",
    "- Non Affine"
   ]
  },
  {
   "cell_type": "markdown",
   "metadata": {},
   "source": [
    "## Affine"
   ]
  },
  {
   "cell_type": "markdown",
   "metadata": {},
   "source": [
    "**Preserve**\n",
    "- parallelism\n",
    "- length\n",
    "- angle\n",
    "<br>\n",
    "<br>\n",
    "example:\n",
    "- scaling\n",
    "- rotation\n",
    "- tanslation"
   ]
  },
  {
   "cell_type": "markdown",
   "metadata": {},
   "source": [
    "To shift the position of an image\n",
    "Tx = shift from x coordinate\n",
    "Ty = shift form y coordinate"
   ]
  },
  {
   "cell_type": "code",
   "execution_count": null,
   "metadata": {},
   "outputs": [],
   "source": [
    "import cv2\n",
    "import numpy as np\n",
    "\n",
    "img = cv2.imread('../DATA/bricks.jpg')\n",
    "\n",
    "height, width = img.shape[:2]\n",
    "\n",
    "# T is our translation matrix\n",
    "#  T  = | 1 0 Tx |\n",
    "#       | 0 1 Ty |\n",
    "T = np.float32([[1,0,90],[0,1,190]])\n",
    "\n",
    "img_tran = cv2.warpAffine(img, T, (width, height))\n",
    "cv2.imshow('Translation', img_tran)\n",
    "cv2.waitKey()\n",
    "cv2.destroyAllWindows()"
   ]
  },
  {
   "cell_type": "markdown",
   "metadata": {},
   "source": [
    "## Non Affine/ Projective Transform/ Homography "
   ]
  },
  {
   "cell_type": "markdown",
   "metadata": {},
   "source": [
    "**Preserve**\n",
    "- collinearity\n",
    "- incidence"
   ]
  },
  {
   "cell_type": "code",
   "execution_count": null,
   "metadata": {},
   "outputs": [],
   "source": []
  }
 ],
 "metadata": {
  "kernelspec": {
   "display_name": "Python 3",
   "language": "python",
   "name": "python3"
  },
  "language_info": {
   "codemirror_mode": {
    "name": "ipython",
    "version": 3
   },
   "file_extension": ".py",
   "mimetype": "text/x-python",
   "name": "python",
   "nbconvert_exporter": "python",
   "pygments_lexer": "ipython3",
   "version": "3.6.8"
  }
 },
 "nbformat": 4,
 "nbformat_minor": 2
}
