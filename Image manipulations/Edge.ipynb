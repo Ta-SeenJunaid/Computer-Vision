{
 "cells": [
  {
   "cell_type": "markdown",
   "metadata": {},
   "source": [
    "# Edge detection"
   ]
  },
  {
   "cell_type": "markdown",
   "metadata": {},
   "source": [
    "## Sobel"
   ]
  },
  {
   "cell_type": "markdown",
   "metadata": {},
   "source": [
    "joint Gausssian smoothing plus differentiation operation\n",
    "<br />\n",
    "more resistant to noise\n",
    "<br />\n",
    "specify the direction of derivatives (yorder and xorder)\n",
    "<br />\n",
    "specify the size of kernel by the argument ksize\n",
    "<br />\n",
    " If 'ksize = -1' means  a 3x3 Scharr filter for better result"
   ]
  },
  {
   "cell_type": "code",
   "execution_count": 12,
   "metadata": {},
   "outputs": [],
   "source": [
    "import cv2\n",
    "import numpy as np\n",
    "\n",
    "img = cv2.imread('../DATA/bricks.jpg', 0)\n",
    "height, width = img.shape\n",
    "\n",
    "#Sobel edges\n",
    "sobel_x = cv2.Sobel(img, cv2.CV_64F, 0, 1, ksize = -1)\n",
    "sobel_y = cv2.Sobel(img, cv2.CV_64F, 1, 0, ksize = -1)\n",
    "\n",
    "cv2.imshow('Image Gray', img)\n",
    "cv2.waitKey(0)\n",
    "\n",
    "cv2.imshow('Sobel X', sobel_x)\n",
    "cv2.waitKey(0)\n",
    "\n",
    "cv2.imshow('Sobel Y', sobel_y)\n",
    "cv2.waitKey(0)\n",
    "\n",
    "sobel_OR = cv2.bitwise_or(sobel_x, sobel_y)\n",
    "cv2.imshow('sobel_OR', sobel_OR)\n",
    "cv2.waitKey(0)\n",
    "\n",
    "cv2.destroyAllWindows()"
   ]
  },
  {
   "cell_type": "markdown",
   "metadata": {},
   "source": [
    "## Laplacian Derivatives"
   ]
  },
  {
   "cell_type": "markdown",
   "metadata": {},
   "source": [
    "calculates the Laplacian of the image in  both directions (yorder and xorder)\n",
    "<br />\n",
    " each derivative is found using Sobel derivatives\n",
    "<br />\n",
    "## dst = $\\Delta$src = $\\frac{\\frac{\\partial^2src}{\\partial x^2}}{\\frac{\\partial^2src}{\\partial y^2}}$"
   ]
  },
  {
   "cell_type": "code",
   "execution_count": null,
   "metadata": {},
   "outputs": [],
   "source": []
  }
 ],
 "metadata": {
  "kernelspec": {
   "display_name": "Python 3",
   "language": "python",
   "name": "python3"
  },
  "language_info": {
   "codemirror_mode": {
    "name": "ipython",
    "version": 3
   },
   "file_extension": ".py",
   "mimetype": "text/x-python",
   "name": "python",
   "nbconvert_exporter": "python",
   "pygments_lexer": "ipython3",
   "version": "3.6.8"
  }
 },
 "nbformat": 4,
 "nbformat_minor": 2
}
