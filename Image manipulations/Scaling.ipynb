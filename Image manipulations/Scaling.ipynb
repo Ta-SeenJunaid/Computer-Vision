{
 "cells": [
  {
   "cell_type": "markdown",
   "metadata": {},
   "source": [
    "## Scaling, re-sizing and interpolations"
   ]
  },
  {
   "cell_type": "markdown",
   "metadata": {},
   "source": [
    "***cv2.resize(image, dsize(output image size), x scale, y scale, interpolation)***\n",
    "<br>\n",
    "We can use one from dsize or x scale & y scale\n",
    "<br>\n",
    "\n",
    "***interpolation:***\n",
    "- INTER_NEAREST\n",
    "- INTER_LINEAR\n",
    "- INTER_AREA\n",
    "- INTER_CUBIC\n",
    "- INTER_LANCZOS4\n",
    "\n",
    "To shrink an image, it will generally look best with CV_INTER_AREA interpolation, whereas to enlarge an image, it will generally look best with CV_INTER_CUBIC (slow) or CV_INTER_LINEAR (faster but still looks OK)"
   ]
  },
  {
   "cell_type": "code",
   "execution_count": 1,
   "metadata": {},
   "outputs": [],
   "source": [
    "import cv2\n",
    "import numpy as np\n",
    "\n",
    "\n",
    "image = cv2.imread('../DATA/00-puppy.jpg')\n",
    "\n",
    "#Default Interpolation = Linear Interpolation\n",
    "image_scaled = cv2.resize(image, None, fx=0.70, fy=0.25)\n",
    "cv2.imshow('Linear Interpolation', image_scaled) \n",
    "cv2.waitKey()\n",
    "\n",
    "#enlarge an image\n",
    "image_scaled = cv2.resize(image, None, fx=2, fy=2, interpolation = cv2.INTER_CUBIC)\n",
    "cv2.imshow('Scaling Cubic Interpolation', image_scaled)\n",
    "cv2.waitKey()\n",
    "\n",
    "# setting exact dimensions\n",
    "image_scaled = cv2.resize(image, (1500, 60), interpolation = cv2.INTER_AREA)\n",
    "cv2.imshow('Scaling Skewed Size', image_scaled) \n",
    "cv2.waitKey()\n",
    "\n",
    "cv2.destroyAllWindows()"
   ]
  },
  {
   "cell_type": "code",
   "execution_count": null,
   "metadata": {},
   "outputs": [],
   "source": []
  }
 ],
 "metadata": {
  "kernelspec": {
   "display_name": "Python 3",
   "language": "python",
   "name": "python3"
  },
  "language_info": {
   "codemirror_mode": {
    "name": "ipython",
    "version": 3
   },
   "file_extension": ".py",
   "mimetype": "text/x-python",
   "name": "python",
   "nbconvert_exporter": "python",
   "pygments_lexer": "ipython3",
   "version": "3.6.8"
  }
 },
 "nbformat": 4,
 "nbformat_minor": 2
}
