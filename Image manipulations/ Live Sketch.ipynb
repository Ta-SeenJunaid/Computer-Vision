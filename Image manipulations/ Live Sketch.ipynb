{
 "cells": [
  {
   "cell_type": "code",
   "execution_count": 19,
   "metadata": {},
   "outputs": [],
   "source": [
    "import cv2\n",
    "\n",
    "\n",
    "def drawSketch(image):\n",
    "    \n",
    "    gray_image = cv2.cvtColor(image, cv2.COLOR_BGR2GRAY)\n",
    "    \n",
    "    clean_image = cv2.GaussianBlur(gray_image, (5,5), 0)\n",
    "    \n",
    "    canny_edges = cv2.Canny(clean_image, 10, 80)\n",
    "    \n",
    "    ret, inverse = cv2.threshold(canny_edges, 80, 255, cv2.THRESH_BINARY_INV)\n",
    "    \n",
    "    return inverse\n",
    "\n",
    "input = cv2.VideoCapture(0)\n",
    "\n",
    "while True:\n",
    "    ret, frame = input.read()\n",
    "    cv2.imshow(\"Sketch Output\", drawSketch(frame))\n",
    "    if cv2.waitKey(1) == ord('s'):\n",
    "        break\n",
    "\n",
    "input.release()\n",
    "cv2.destroyAllWindows()\n"
   ]
  }
 ],
 "metadata": {
  "kernelspec": {
   "display_name": "Python 3",
   "language": "python",
   "name": "python3"
  },
  "language_info": {
   "codemirror_mode": {
    "name": "ipython",
    "version": 3
   },
   "file_extension": ".py",
   "mimetype": "text/x-python",
   "name": "python",
   "nbconvert_exporter": "python",
   "pygments_lexer": "ipython3",
   "version": "3.6.8"
  }
 },
 "nbformat": 4,
 "nbformat_minor": 2
}
