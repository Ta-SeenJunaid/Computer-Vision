{
 "cells": [
  {
   "cell_type": "markdown",
   "metadata": {},
   "source": [
    "# Corner Detection"
   ]
  },
  {
   "cell_type": "markdown",
   "metadata": {},
   "source": [
    "## Harris Corner Detection\n",
    "\n",
    "**cv2.cornerHarris**(input image, block size, ksize, k) → results\n",
    "\n",
    "- input image - grayscale and float32 type.\n",
    "- blockSize - the size of neighborhood considered for corner detection\n",
    "- ksize - aperture parameter of Sobel derivative used.\n",
    "- k - harris detector free parameter in the equation\n",
    "- result – array of corner locations (x,y)\n"
   ]
  },
  {
   "cell_type": "code",
   "execution_count": 11,
   "metadata": {},
   "outputs": [],
   "source": [
    "import cv2\n",
    "import numpy as np\n",
    "\n",
    "img = cv2.imread('../Data/flat_chessboard.PNG')\n",
    "img_gray = cv2.cvtColor(img, cv2.COLOR_BGR2GRAY)\n",
    "cv2.imshow('Chess Board', img)\n",
    "cv2.waitKey(0)\n",
    "\n",
    "#cv2.cornerHarris requires data type of float32\n",
    "gray = np.float32(img_gray)\n",
    "\n",
    "harris_corners = cv2.cornerHarris(gray, 10, 3, 0.04)\n",
    "\n",
    "#Dilation for enlarge\n",
    "harris_corners = cv2.dilate(harris_corners,None)\n",
    "\n",
    "#Thresholding, which depends on image\n",
    "img[harris_corners>0.01*harris_corners.max()] = [255,0,0]\n",
    "\n",
    "cv2.imshow('Harris Corners', img)\n",
    "cv2.waitKey(0)\n",
    "\n",
    "\n",
    "cv2.destroyAllWindows()"
   ]
  },
  {
   "cell_type": "code",
   "execution_count": null,
   "metadata": {},
   "outputs": [],
   "source": []
  }
 ],
 "metadata": {
  "kernelspec": {
   "display_name": "Python 3",
   "language": "python",
   "name": "python3"
  },
  "language_info": {
   "codemirror_mode": {
    "name": "ipython",
    "version": 3
   },
   "file_extension": ".py",
   "mimetype": "text/x-python",
   "name": "python",
   "nbconvert_exporter": "python",
   "pygments_lexer": "ipython3",
   "version": "3.6.8"
  }
 },
 "nbformat": 4,
 "nbformat_minor": 2
}
