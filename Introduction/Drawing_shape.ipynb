{
 "cells": [
  {
   "cell_type": "markdown",
   "metadata": {},
   "source": [
    "Creating image"
   ]
  },
  {
   "cell_type": "code",
   "execution_count": 8,
   "metadata": {},
   "outputs": [],
   "source": [
    "import cv2\n",
    "import numpy as np\n",
    "\n",
    "#np.zeros will create black image with 3 color channel\n",
    "image = np.zeros((255,255,3), np.uint8)\n",
    "\n",
    "cv2.imshow(\"Our Image\", image)\n",
    "\n",
    "cv2.waitKey()\n",
    "cv2.destroyAllWindows()"
   ]
  },
  {
   "cell_type": "markdown",
   "metadata": {},
   "source": [
    "**Drawing Lines**\n",
    "<br>\n",
    "cv2.line(image, starting cordinates, ending cordinates, color, thickness)"
   ]
  },
  {
   "cell_type": "code",
   "execution_count": null,
   "metadata": {},
   "outputs": [],
   "source": [
    "import cv2\n",
    "import numpy as np\n",
    "\n",
    "#np.zeros will create black image with 3 color channel\n",
    "image = np.zeros((255,255,3), np.uint8)\n",
    "cv2.line(image, (0,0), (255,255), (150,255,196),10)\n",
    "\n",
    "cv2.imshow(\"Our Image\", image)\n",
    "\n",
    "cv2.waitKey()\n",
    "cv2.destroyAllWindows()"
   ]
  },
  {
   "cell_type": "markdown",
   "metadata": {},
   "source": [
    "**Drawing Rectangle**\n",
    "<br>\n",
    "cv2.rectangle(image, starting vertex, opposite vertex, color, thickness)\n",
    "thickness = -1, will fill the entire Rectangle"
   ]
  },
  {
   "cell_type": "code",
   "execution_count": null,
   "metadata": {},
   "outputs": [],
   "source": [
    "import cv2\n",
    "import numpy as np\n",
    "\n",
    "#np.zeros will create black image with 3 color channel\n",
    "image = np.zeros((255,255,3), np.uint8)\n",
    "cv2.rectangle(image, (100,100), (150,150), (150,255,196),10)\n",
    "\n",
    "cv2.rectangle(image, (200,200), (220,220), (0,255,196),10)\n",
    "\n",
    "cv2.imshow(\"Our Image\", image)\n",
    "\n",
    "cv2.waitKey()\n",
    "cv2.destroyAllWindows()"
   ]
  },
  {
   "cell_type": "code",
   "execution_count": null,
   "metadata": {},
   "outputs": [],
   "source": []
  }
 ],
 "metadata": {
  "kernelspec": {
   "display_name": "Python 3",
   "language": "python",
   "name": "python3"
  },
  "language_info": {
   "codemirror_mode": {
    "name": "ipython",
    "version": 3
   },
   "file_extension": ".py",
   "mimetype": "text/x-python",
   "name": "python",
   "nbconvert_exporter": "python",
   "pygments_lexer": "ipython3",
   "version": "3.6.8"
  }
 },
 "nbformat": 4,
 "nbformat_minor": 2
}
