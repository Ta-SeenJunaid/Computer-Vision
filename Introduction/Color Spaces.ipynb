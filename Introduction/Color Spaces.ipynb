{
 "cells": [
  {
   "cell_type": "markdown",
   "metadata": {},
   "source": [
    "# Color Spaces"
   ]
  },
  {
   "cell_type": "markdown",
   "metadata": {},
   "source": [
    "## BGR & RGB"
   ]
  },
  {
   "cell_type": "markdown",
   "metadata": {},
   "source": [
    "To see the original image we have to convert OpenCv's default BGR format into RGB format. "
   ]
  },
  {
   "cell_type": "code",
   "execution_count": 1,
   "metadata": {},
   "outputs": [],
   "source": [
    "import cv2\n",
    "\n",
    "input = cv2.imread('../DATA/bricks.jpg')\n",
    "\n",
    "rgb_img = cv2.cvtColor(input, cv2.COLOR_BGR2RGB)\n",
    "\n",
    "cv2.imshow(\"RGB\", rgb_img)\n",
    "\n",
    "cv2.waitKey()\n",
    "\n",
    "cv2.destroyAllWindows()"
   ]
  },
  {
   "cell_type": "markdown",
   "metadata": {},
   "source": [
    "## HSV"
   ]
  },
  {
   "cell_type": "markdown",
   "metadata": {},
   "source": [
    "HSV (hue, saturation, value), \n",
    "Hue = Color Value (0-179), \n",
    "Saturation = Vibrancy of color (0-255), \n",
    "Value = Brightness of intensity (0-255)"
   ]
  },
  {
   "cell_type": "markdown",
   "metadata": {},
   "source": [
    "hsv_img[Height, Width, H/S/v channel]"
   ]
  },
  {
   "cell_type": "code",
   "execution_count": null,
   "metadata": {},
   "outputs": [],
   "source": [
    "import cv2\n",
    "\n",
    "input = cv2.imread('../DATA/bricks.jpg')\n",
    "\n",
    "hsv_img = cv2.cvtColor(input, cv2.COLOR_BGR2HSV)\n",
    "\n",
    "cv2.imshow(\"HSV\", hsv_img)\n",
    "cv2.imshow(\"Hue\", hsv_img[:,:,0])\n",
    "cv2.imshow(\"Saturation\", hsv_img[:,:,1])\n",
    "cv2.imshow(\"Saturation\", hsv_img[:,:,2])\n",
    "\n",
    "cv2.waitKey()\n",
    "\n",
    "cv2.destroyAllWindows()"
   ]
  },
  {
   "cell_type": "markdown",
   "metadata": {},
   "source": [
    "## RGB"
   ]
  },
  {
   "cell_type": "code",
   "execution_count": null,
   "metadata": {},
   "outputs": [],
   "source": [
    "import cv2\n",
    "input = cv2.imread('../DATA/bricks.jpg'))\n",
    "\n",
    "# split() is used to splites the image \n",
    "B, G, R = cv2.split(image)\n",
    "\n",
    "print R.shape\n",
    "cv2.imshow(\"Red\", R)\n",
    "cv2.imshow(\"Green\", G)\n",
    "cv2.imshow(\"Blue\", B)\n",
    "cv2.waitKey(0)\n",
    "cv2.destroyAllWindows()\n",
    "\n",
    "# merging image, \n",
    "merged = cv2.merge([B, G, R]) \n",
    "cv2.imshow(\"Merged\", merged) \n",
    "\n",
    "#amplify acolor\n",
    "amplified = cv2.merge([B, G+100, R])\n",
    "cv2.imshow(\"Amplified\",amplified) \n",
    "\n",
    "cv2.waitKey(0)\n",
    "cv2.destroyAllWindows()"
   ]
  },
  {
   "cell_type": "code",
   "execution_count": null,
   "metadata": {},
   "outputs": [],
   "source": []
  }
 ],
 "metadata": {
  "kernelspec": {
   "display_name": "Python 3",
   "language": "python",
   "name": "python3"
  },
  "language_info": {
   "codemirror_mode": {
    "name": "ipython",
    "version": 3
   },
   "file_extension": ".py",
   "mimetype": "text/x-python",
   "name": "python",
   "nbconvert_exporter": "python",
   "pygments_lexer": "ipython3",
   "version": "3.6.8"
  }
 },
 "nbformat": 4,
 "nbformat_minor": 2
}
